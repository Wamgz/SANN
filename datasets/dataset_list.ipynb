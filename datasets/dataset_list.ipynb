{
 "cells": [
  {
   "cell_type": "code",
   "execution_count": 1,
   "metadata": {},
   "outputs": [],
   "source": [
    "import os\n",
    "import numpy as np"
   ]
  },
  {
   "cell_type": "code",
   "execution_count": 31,
   "metadata": {},
   "outputs": [
    {
     "name": "stdout",
     "output_type": "stream",
     "text": [
      "Train\n",
      "Protocol 1\n",
      "/root/autodl-tmp/oulu/Protocols/Protocol_1/Train.txt\n",
      "Protocol 2\n",
      "/root/autodl-tmp/oulu/Protocols/Protocol_2/Train.txt\n",
      "Protocol 3\n",
      "/root/autodl-tmp/oulu/Protocols/Protocol_3/Train_1.txt\n",
      "/root/autodl-tmp/oulu/Protocols/Protocol_3/Train_2.txt\n",
      "/root/autodl-tmp/oulu/Protocols/Protocol_3/Train_3.txt\n",
      "/root/autodl-tmp/oulu/Protocols/Protocol_3/Train_4.txt\n",
      "/root/autodl-tmp/oulu/Protocols/Protocol_3/Train_5.txt\n",
      "/root/autodl-tmp/oulu/Protocols/Protocol_3/Train_6.txt\n",
      "Dev\n",
      "Protocol 1\n",
      "/root/autodl-tmp/oulu/Protocols/Protocol_1/Dev.txt\n",
      "Protocol 2\n",
      "/root/autodl-tmp/oulu/Protocols/Protocol_2/Dev.txt\n",
      "Protocol 3\n",
      "/root/autodl-tmp/oulu/Protocols/Protocol_3/Dev_1.txt\n",
      "/root/autodl-tmp/oulu/Protocols/Protocol_3/Dev_2.txt\n",
      "/root/autodl-tmp/oulu/Protocols/Protocol_3/Dev_3.txt\n",
      "/root/autodl-tmp/oulu/Protocols/Protocol_3/Dev_4.txt\n",
      "/root/autodl-tmp/oulu/Protocols/Protocol_3/Dev_5.txt\n",
      "/root/autodl-tmp/oulu/Protocols/Protocol_3/Dev_6.txt\n",
      "Test\n",
      "Protocol 1\n",
      "/root/autodl-tmp/oulu/Protocols/Protocol_1/Test.txt\n",
      "Protocol 2\n",
      "/root/autodl-tmp/oulu/Protocols/Protocol_2/Test.txt\n",
      "Protocol 3\n",
      "/root/autodl-tmp/oulu/Protocols/Protocol_3/Test_1.txt\n",
      "/root/autodl-tmp/oulu/Protocols/Protocol_3/Test_2.txt\n",
      "/root/autodl-tmp/oulu/Protocols/Protocol_3/Test_3.txt\n",
      "/root/autodl-tmp/oulu/Protocols/Protocol_3/Test_4.txt\n",
      "/root/autodl-tmp/oulu/Protocols/Protocol_3/Test_5.txt\n",
      "/root/autodl-tmp/oulu/Protocols/Protocol_3/Test_6.txt\n"
     ]
    }
   ],
   "source": [
    "oulu_dir = '/root/autodl-tmp/oulu/'\n",
    "out_dir = '/root/autodl-tmp/test_data/oulu/'\n",
    "modes = ['Train', 'Dev', 'Test']\n",
    "protocol_root_dir = os.path.join(oulu_dir, 'Protocols')\n",
    "for mode in modes:\n",
    "    print(mode)\n",
    "    mode_map = {}\n",
    "    jpgs_dir = os.path.join(oulu_dir, '{}_jpgs'.format(mode))\n",
    "    jpgs = os.listdir(jpgs_dir)\n",
    "\n",
    "    for i in range(1, 4):\n",
    "        print('Protocol {}'.format(i))\n",
    "        protocal_dir = os.path.join(protocol_root_dir, 'Protocol_{}'.format(i))\n",
    "        for protocol in os.listdir(protocal_dir):\n",
    "            if protocol.startswith(mode) and protocol.endswith('.txt'):\n",
    "                print(os.path.join(oulu_dir, protocal_dir, protocol))\n",
    "                with open(os.path.join(oulu_dir, protocal_dir, protocol)) as f:\n",
    "                    lines = f.readlines()\n",
    "                    for line in lines:\n",
    "                        line = line.strip()\n",
    "                        label, video_name = line.split(',')[0].strip(), line.split(',')[1].strip()\n",
    "                        if video_name not in mode_map:\n",
    "                            mode_map[video_name] = label\n",
    "                        else:\n",
    "                            if mode_map[video_name] != label:\n",
    "                                print('Error: {} already in map and label mismatch'.format(video_name))\n",
    "    \n",
    "    cur_jpgs = os.listdir(os.path.join(out_dir, mode + '_jpgs'))\n",
    "    with open(os.path.join(out_dir, mode + '_list_video.txt'), 'w') as f:\n",
    "        for jpg in cur_jpgs:\n",
    "            if jpg not in mode_map:\n",
    "                print('Error: {} not in map'.format(jpg))\n",
    "            else:\n",
    "                k = jpg\n",
    "                v = mode_map[jpg]\n",
    "                f.write(v + ',' + k + '\\n')\n",
    "\n",
    "    # with open(os.path.join(out_dir, mode + '_list_video.txt'), 'w') as f:\n",
    "    #     for k, v in mode_map.items():\n",
    "    #             f.write(v + ',' + k + '\\n')\n",
    "    "
   ]
  },
  {
   "cell_type": "code",
   "execution_count": null,
   "metadata": {},
   "outputs": [],
   "source": []
  },
  {
   "cell_type": "code",
   "execution_count": 10,
   "metadata": {},
   "outputs": [
    {
     "name": "stdout",
     "output_type": "stream",
     "text": [
      "Train\n",
      "Dev\n",
      "Test\n"
     ]
    }
   ],
   "source": [
    "# root_dir = '/root/autodl-tmp/replayattack/'\n",
    "out_dir = '/root/autodl-tmp/replayattack/'\n",
    "modes = ['Train', 'Dev', 'Test']\n",
    "attacks = {'Print' : -1,\n",
    "            'Mobile': -2,\n",
    "            'Highdef': -3,\n",
    "            'Digitalphoto': -4,\n",
    "            'Photo': -5,\n",
    "            'Video': -6,\n",
    "            'Grandtest': -7\n",
    "        }\n",
    "for mode in modes:\n",
    "    print(mode)\n",
    "    mode_map = {}\n",
    "    jpgs_dir = os.path.join(out_dir, '{}_jpgs'.format(mode))\n",
    "\n",
    "    for jpg in os.listdir(jpgs_dir):\n",
    "        label = 0\n",
    "        if not jpg.startswith('attack'):\n",
    "            label = 1\n",
    "        else:\n",
    "            attack_type = jpg.split('_')[1]\n",
    "            label = attacks[attack_type.capitalize()]\n",
    "        if label == 0:\n",
    "            print()\n",
    "        else:\n",
    "            mode_map[jpg] = label\n",
    "    # print(mode_map)\n",
    "    with open(os.path.join(out_dir, mode + '_list_video.txt'), 'w') as f:\n",
    "        for k, v in mode_map.items():\n",
    "                f.write(str(v) + ',' + k + '\\n')\n",
    "    "
   ]
  },
  {
   "cell_type": "code",
   "execution_count": 34,
   "metadata": {},
   "outputs": [
    {
     "name": "stdout",
     "output_type": "stream",
     "text": [
      "Train\n",
      "{'real_client002_android_SD_scene01': 1, 'real_client002_laptop_SD_scene01': 1, 'real_client003_android_SD_scene01': 1, 'real_client003_laptop_SD_scene01': 1, 'real_client005_android_SD_scene01': 1, 'real_client005_laptop_SD_scene01': 1}\n",
      "Test\n",
      "{'real_client001_android_SD_scene01': 1, 'real_client001_laptop_SD_scene01': 1, 'real_client033_laptop_SD_scene01': 1, 'real_client035_android_SD_scene01': 1, 'real_client035_laptop_SD_scene01': 1, 'real_client036_android_SD_scene01': 1}\n"
     ]
    }
   ],
   "source": [
    "root_dir = '/root/autodl-tmp/test_data/MSU-MFSD/'\n",
    "modes = ['Train', 'Test']\n",
    "attacks = {\n",
    "    'ipad': -1,\n",
    "    'iphone': -2,\n",
    "    'print': -3,\n",
    "    'ipad': -4,\n",
    "    'iphone': -5,\n",
    "    'printed':-6\n",
    "}\n",
    "for mode in modes:\n",
    "    print(mode)\n",
    "    mode_map = {}\n",
    "    jpgs_dir = os.path.join(root_dir, '{}_jpgs'.format(mode))\n",
    "\n",
    "    for jpg in os.listdir(jpgs_dir):\n",
    "        label = 0\n",
    "        if not jpg.startswith('attack'):\n",
    "            label = 1\n",
    "        else:\n",
    "            attack_type = jpg.split('_')[-3]\n",
    "            label = attacks[attack_type]\n",
    "        if label == 0:\n",
    "            print()\n",
    "        else:\n",
    "            mode_map[jpg] = label\n",
    "    print(mode_map)\n",
    "    with open(os.path.join(root_dir, mode + '_list_video.txt'), 'w') as f:\n",
    "        for k, v in mode_map.items():\n",
    "                f.write(str(v) + ',' + k + '\\n')\n",
    "    "
   ]
  },
  {
   "cell_type": "markdown",
   "metadata": {},
   "source": []
  },
  {
   "cell_type": "code",
   "execution_count": 29,
   "metadata": {},
   "outputs": [],
   "source": [
    "import shutil\n",
    "datasets = ['oulu', 'MSU-MFSD', 'replayattack']\n",
    "for dataset in datasets:\n",
    "    root_dir = '/root/autodl-tmp/{}'.format(dataset)\n",
    "    out_dir = '/root/autodl-tmp/test_data/{}/'.format(dataset)\n",
    "    shutil.rmtree(out_dir)\n",
    "    os.mkdir(out_dir)\n",
    "    mode = ['Train', 'Dev', 'Test']\n",
    "    for m in mode:\n",
    "        cnt = 0\n",
    "        jpgs_dir = os.path.join(root_dir, '{}_jpgs'.format(m))\n",
    "        depth_dir = os.path.join(root_dir, '{}_depth'.format(m))\n",
    "        bbox_dir = os.path.join(root_dir, '{}_bbox'.format(m))\n",
    "        out_jpgs_dir = os.path.join(out_dir, '{}_jpgs'.format(m))\n",
    "        out_depth_dir = os.path.join(out_dir, '{}_depth'.format(m))\n",
    "        out_bbox_dir = os.path.join(out_dir, '{}_bbox'.format(m))\n",
    "        if not os.path.exists(jpgs_dir):\n",
    "            continue\n",
    "        for jpg in os.listdir(jpgs_dir):\n",
    "            jpgs_path = os.path.join(jpgs_dir, jpg)\n",
    "            depth_path = os.path.join(depth_dir, jpg)\n",
    "            bbox_path = os.path.join(bbox_dir, jpg)\n",
    "            if os.path.exists(bbox_path) and len(os.listdir(bbox_path)) > 80:\n",
    "                shutil.copytree(os.path.join(jpgs_dir, jpg), os.path.join(out_jpgs_dir, jpg))\n",
    "                shutil.copytree(os.path.join(depth_dir, jpg), os.path.join(out_depth_dir, jpg))\n",
    "                shutil.copytree(os.path.join(bbox_dir, jpg), os.path.join(out_bbox_dir, jpg))\n",
    "                cnt += 1\n",
    "\n",
    "            if cnt > 5:\n",
    "                break"
   ]
  },
  {
   "cell_type": "code",
   "execution_count": 47,
   "metadata": {},
   "outputs": [
    {
     "name": "stdout",
     "output_type": "stream",
     "text": [
      "Train 360\n",
      "Dev 300\n",
      "Test 480\n"
     ]
    }
   ],
   "source": [
    "import shutil\n",
    "datasets = ['replayattack']\n",
    "mode = ['Train', 'Dev', 'Test']\n",
    "for dataset in datasets:\n",
    "    root_dir = '/root/autodl-tmp/{}'.format(dataset)\n",
    "    for m in mode:\n",
    "        cnt = 0\n",
    "        jpgs_dir = os.path.join(root_dir, '{}_jpgs'.format(m))\n",
    "        print(m + ' ' + str(len(os.listdir(jpgs_dir))))\n",
    "        # depth_dir = os.path.join(root_dir, '{}_depth'.format(m))\n",
    "        # bbox_dir = os.path.join(root_dir, '{}_bbox'.format(m))\n",
    "        # if not os.path.exists(jpgs_dir):\n",
    "        #     continue\n",
    "        # jpgs = os.listdir(jpgs_dir)\n",
    "        # # print(dataset + ' ' + m + ' ' + ' ' + str(len(jpgs)) + ' ' + str(len(os.listdir(bbox_dir))) + ' ' + str(len(os.listdir(depth_dir))))\n",
    "        \n",
    "        # for jpg in jpgs:\n",
    "        #     jpg_path = os.path.join(jpgs_dir, jpg)\n",
    "        #     depth_path = os.path.join(depth_dir, jpg)\n",
    "        #     bbox_path = os.path.join(bbox_dir, jpg)\n",
    "        #     print(dataset + ' ' + m + ' ' + jpg + ' ' + str(len(os.listdir(jpg_path))) + ' ' + str(len(os.listdir(bbox_path))) + ' ' + str(len(os.listdir(depth_path))))\n",
    "        #     # if not os.path.exists(depth_path) or not os.path.exists(bbox_path) or len(os.listdir(bbox_path)) < len(os.listdir(jpg_path)) // 2 or len(os.listdir(depth_path)) < len(os.listdir(jpg_path)) // 2:\n",
    "        #     #     print(dataset + ' ' + m + ' ' + jpg)"
   ]
  },
  {
   "cell_type": "code",
   "execution_count": 5,
   "metadata": {},
   "outputs": [],
   "source": [
    "def batch_jpgs_depth(jpgs_root, mode, start_idx, end_idx, need_depth = True, need_bbox = True):\n",
    "    input_jpgs_dir = os.path.join(jpgs_root, '{}_jpgs'.format(mode))\n",
    "    output_depth_dir = os.path.join(jpgs_root, '{}_depth'.format(mode))\n",
    "    output_bbox_dir = os.path.join(jpgs_root, '{}_bbox'.format(mode))\n",
    "\n",
    "    jpgs_path_list = [os.path.join(input_jpgs_dir, jpgs_name) for jpgs_name in os.listdir(input_jpgs_dir)]\n",
    "    for jpgs_path in jpgs_path_list:\n",
    "        # jpgs_dir_name = jpgs_path.split('/')[-1]\n",
    "        # if jpgs_dir_name < start_idx or jpgs_dir_name > end_idx:\n",
    "        #     continue\n",
    "        # jpgs = sorted(os.listdir(jpgs_path))\n",
    "        # jpgs_path = [os.path.join(jpgs_path, jpg) for jpg in jpgs]\n",
    "        print('mode: ' + mode + '' + 'jpgs_path:' + jpgs_path)"
   ]
  },
  {
   "cell_type": "code",
   "execution_count": 9,
   "metadata": {},
   "outputs": [
    {
     "name": "stdout",
     "output_type": "stream",
     "text": [
      "Train 360 360 360\n",
      "Dev 300 300 300\n",
      "Test 480 480 480\n"
     ]
    }
   ],
   "source": [
    "out_dir = '/root/autodl-tmp/replayattack'\n",
    "threads = []\n",
    "modes = ['Train', 'Dev', 'Test']\n",
    "for m in modes:\n",
    "    jpgs_dir = os.listdir(os.path.join(out_dir, '{}_jpgs'.format(m)))\n",
    "    depth_dir = os.listdir(os.path.join(out_dir, '{}_depth'.format(m)))\n",
    "    bbox_dir = os.listdir(os.path.join(out_dir, '{}_bbox'.format(m)))\n",
    "    print(m + ' ' + str(len(jpgs_dir)) + ' ' + str(len(depth_dir)) + ' ' + str(len(bbox_dir)))\n",
    "    for jpgs in jpgs_dir:\n",
    "        if jpgs not in depth_dir or jpgs not in bbox_dir:\n",
    "            print(jpgs)\n",
    "        jpg_path = os.path.join(out_dir, '{}_jpgs'.format(m), jpgs)\n",
    "        depth_path = os.path.join(out_dir, '{}_depth'.format(m), jpgs)\n",
    "        bbox_path = os.path.join(out_dir, '{}_bbox'.format(m), jpgs)\n",
    "        if len(os.listdir(depth_path)) < len(os.listdir(jpg_path)) // 2 or len(os.listdir(bbox_path)) < len(os.listdir(jpg_path)) // 2:\n",
    "            print(jpgs)\n",
    "        if len(os.listdir(depth_path)) != len(os.listdir(bbox_path)):\n",
    "            print(jpgs)"
   ]
  }
 ],
 "metadata": {
  "kernelspec": {
   "display_name": "CDCN",
   "language": "python",
   "name": "python3"
  },
  "language_info": {
   "codemirror_mode": {
    "name": "ipython",
    "version": 3
   },
   "file_extension": ".py",
   "mimetype": "text/x-python",
   "name": "python",
   "nbconvert_exporter": "python",
   "pygments_lexer": "ipython3",
   "version": "3.8.10"
  },
  "orig_nbformat": 4,
  "vscode": {
   "interpreter": {
    "hash": "29a305130f74ab61b1ab4ab7468dc6e27d0642d4060ed00219a148371441e6d2"
   }
  }
 },
 "nbformat": 4,
 "nbformat_minor": 2
}
